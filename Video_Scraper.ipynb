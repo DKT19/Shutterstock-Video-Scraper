{
 "cells": [
  {
   "cell_type": "code",
   "execution_count": 9,
   "metadata": {},
   "outputs": [],
   "source": [
    "# Importing libraries\n",
    "from selenium import webdriver\n",
    "from selenium.webdriver.support.ui import WebDriverWait\n",
    "from selenium.webdriver.support import expected_conditions as EC\n",
    "from selenium.webdriver.common.by import By\n",
    "from lxml.html import fromstring\n",
    "import urllib.request\n",
    "import requests\n",
    "import time\n",
    "import os"
   ]
  },
  {
   "cell_type": "code",
   "execution_count": 10,
   "metadata": {},
   "outputs": [
    {
     "name": "stdout",
     "output_type": "stream",
     "text": [
      "Enter object: Guitar\n",
      "Enter number of videos to scrape: 5\n"
     ]
    }
   ],
   "source": [
    "obj = input('Enter object: ')                                    # Must have + between multiple words\n",
    "num_vid = input('Enter number of videos to scrape: ')\n",
    "url_vid = \"https://www.shutterstock.com/video/search/\" + obj"
   ]
  },
  {
   "cell_type": "code",
   "execution_count": 27,
   "metadata": {},
   "outputs": [],
   "source": [
    "headers = {'User-Agent': 'Mozilla/5.0 (Windows NT 10.0; Win64; x64) AppleWebKit/537.36 (KHTML, like Gecko) Chrome/70.0.3538.110 Safari/537.36'}"
   ]
  },
  {
   "cell_type": "code",
   "execution_count": 28,
   "metadata": {},
   "outputs": [],
   "source": [
    "# Load and scrape comments\n",
    "def vid_scrape(url):\n",
    "    driver = webdriver.Chrome()\n",
    "    driver.maximize_window()\n",
    "    for i in range(1, int(num_vid) + 1):\n",
    "        driver.get(url)\n",
    "        assert \"Shutterstock\" in driver.title  # Only works for valid Shutterstock pages\n",
    "        oldHeight = driver.execute_script(\"return document.documentElement.scrollHeight\")\n",
    "        try:\n",
    "            WebDriverWait(driver, 10).until(EC.presence_of_element_located((By.XPATH, '//*[@id=\"content\"]/div[2]/div/div[2]/div/main/div/div[3]/div[' + str(i) + ']/a')))\n",
    "        except:\n",
    "            driver.execute_script(\"window.scrollTo(0, document.documentElement.scrollHeight);\")\n",
    "            newHeight = driver.execute_script(\"return document.documentElement.scrollHeight\")\n",
    "            if newHeight == oldHeight:\n",
    "                driver.close()\n",
    "                return\n",
    "            oldHeight = newHeight\n",
    "        while True:\n",
    "            vid_retrieve = driver.find_elements_by_xpath('//*[@id=\"content\"]/div[2]/div/div[2]/div/main/div/div[3]/div[' + str(i) + ']/a')\n",
    "            print(vid_retrieve)\n",
    "            if len(vid_retrieve) != 0:\n",
    "                break\n",
    "        vid_retrieve[0].click()\n",
    "        time.sleep(10)  # Buffer time\n",
    "        start_time = time.time()\n",
    "        while True:\n",
    "            WebDriverWait(driver, 30).until(EC.visibility_of_element_located((By.XPATH, \"//video[@data-automation='VideoPlayer_video_video']\")))\n",
    "            vid_indURL = driver.current_url\n",
    "            response = requests.get(vid_indURL, headers = headers)\n",
    "            tree = fromstring(response.content)\n",
    "            vid_link = tree.xpath('//*[@id=\"content\"]/div[2]/div/div[2]/div/main/div/div/div/div[2]/div[1]/div/div[1]/div/video/source[2]/@src')  # List\n",
    "            print(vid_link)\n",
    "            elapsed_time = time.time() - start_time\n",
    "            print(elapsed_time)\n",
    "            if elapsed_time > 20:\n",
    "                break\n",
    "            if len(vid_link) != 0:\n",
    "                break\n",
    "        if len(vid_link) > 0:\n",
    "            vfile_path = os.path.join(r\".\\Videos\", 'vid_ ' + str(i) + '.mp4')\n",
    "            urllib.request.urlretrieve(vid_link[0], vfile_path)  # Save each video to Videos directory"
   ]
  },
  {
   "cell_type": "code",
   "execution_count": 29,
   "metadata": {
    "scrolled": true
   },
   "outputs": [
    {
     "name": "stdout",
     "output_type": "stream",
     "text": [
      "[<selenium.webdriver.remote.webelement.WebElement (session=\"8a39ccb5ee8ce17bd2ee5a1ea3125051\", element=\"0.4265932818664335-1\")>]\n",
      "['https://ak4.picdn.net/shutterstock/videos/1018015894/preview/stock-footage-sitting-at-the-dinner-table-handsome-young-man-plays-the-guitar-for-a-friends-family-and-friends.mp4']\n",
      "0.381716251373291\n",
      "[<selenium.webdriver.remote.webelement.WebElement (session=\"8a39ccb5ee8ce17bd2ee5a1ea3125051\", element=\"0.5771839748309395-1\")>]\n",
      "['https://ak3.picdn.net/shutterstock/videos/1014841363/preview/stock-footage-funny-gorillas-and-monkeys-play-on-guitar-and-drums-rock-party-on-sunny-seaside-realistic-k.mp4']\n",
      "0.44266557693481445\n",
      "[<selenium.webdriver.remote.webelement.WebElement (session=\"8a39ccb5ee8ce17bd2ee5a1ea3125051\", element=\"0.43094963225110017-1\")>]\n",
      "['https://ak6.picdn.net/shutterstock/videos/1018298596/preview/stock-footage-big-family-garden-party-celebration-gathered-together-at-the-table-relatives-and-friends-young.mp4']\n",
      "0.3650805950164795\n",
      "[<selenium.webdriver.remote.webelement.WebElement (session=\"8a39ccb5ee8ce17bd2ee5a1ea3125051\", element=\"0.6977548445795345-1\")>]\n",
      "['https://ak5.picdn.net/shutterstock/videos/1008693205/preview/stock-footage-smiling-young-father-holds-his-little-cute-baby-girl-on-his-knees-and-tries-to-teach-her-to-play.mp4']\n",
      "0.3640000820159912\n",
      "[<selenium.webdriver.remote.webelement.WebElement (session=\"8a39ccb5ee8ce17bd2ee5a1ea3125051\", element=\"0.8357727855530344-1\")>]\n",
      "['https://ak7.picdn.net/shutterstock/videos/34365367/preview/stock-footage-guitar-player-on-stage-at-a-concert-rocking-the-audience.mp4']\n",
      "0.3423941135406494\n"
     ]
    }
   ],
   "source": [
    "vid_scrape(url_vid)"
   ]
  },
  {
   "cell_type": "code",
   "execution_count": null,
   "metadata": {},
   "outputs": [],
   "source": []
  }
 ],
 "metadata": {
  "kernelspec": {
   "display_name": "Python 3.6 (tensorflow)",
   "language": "python",
   "name": "tensorflow"
  },
  "language_info": {
   "codemirror_mode": {
    "name": "ipython",
    "version": 3
   },
   "file_extension": ".py",
   "mimetype": "text/x-python",
   "name": "python",
   "nbconvert_exporter": "python",
   "pygments_lexer": "ipython3",
   "version": "3.6.8"
  }
 },
 "nbformat": 4,
 "nbformat_minor": 2
}
